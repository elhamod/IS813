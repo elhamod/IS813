{
  "nbformat": 4,
  "nbformat_minor": 0,
  "metadata": {
    "colab": {
      "provenance": [],
      "authorship_tag": "ABX9TyNm9NwKy1V6Nqcot5MtwjAN",
      "include_colab_link": true
    },
    "kernelspec": {
      "name": "python3",
      "display_name": "Python 3"
    },
    "language_info": {
      "name": "python"
    }
  },
  "cells": [
    {
      "cell_type": "markdown",
      "metadata": {
        "id": "view-in-github",
        "colab_type": "text"
      },
      "source": [
        "<a href=\"https://colab.research.google.com/github/elhamod/IS813/blob/main/Week4/IS813_2024_Week4_pre_class.ipynb\" target=\"_parent\"><img src=\"https://colab.research.google.com/assets/colab-badge.svg\" alt=\"Open In Colab\"/></a>"
      ]
    },
    {
      "cell_type": "markdown",
      "source": [
        "# IS813 Week 4: Hallucinations and Agents\n"
      ],
      "metadata": {
        "id": "qy7dgqvIEUEp"
      }
    },
    {
      "cell_type": "markdown",
      "source": [
        "1. Use Google Colab for this assignment.\n",
        "\n",
        "2. **You are not allowed to use ChatGPT for this assignment (except where specifically instructed). However, you may use Google and other online resources. As per the syllabus, you are required to cite your usage. You are also responsible for understanding the solution and defending it when asked in class.**\n",
        "\n",
        "3. For each question, fill in the answer in the cell(s) right below it. The answer could be code or text. You can add as many cells as you need for clarity.\n",
        "\n",
        "4. Enter your BUID (only numerical part) below.\n",
        "\n",
        "5. **Your submission on Blackboard should be the downloaded notebook (i.e., ipynb file). It should be prepopulated with your solution (i.e., the TA and/or instructor need not rerun the notebook to inspect the output). The code, when executed by the TA and/or instructor, should run with no runtime errors.**"
      ],
      "metadata": {
        "id": "YT9rb6-K37DT"
      }
    },
    {
      "cell_type": "markdown",
      "source": [
        "#Part 1: Pre-class Work"
      ],
      "metadata": {
        "id": "CECHXjp75AJY"
      }
    },
    {
      "cell_type": "code",
      "source": [
        "!pip install openai"
      ],
      "metadata": {
        "colab": {
          "base_uri": "https://localhost:8080/"
        },
        "id": "5Ycvq5d0Lfyz",
        "outputId": "5a0d9e9b-952b-455b-c73b-7cd09b2429d2"
      },
      "execution_count": null,
      "outputs": [
        {
          "output_type": "stream",
          "name": "stdout",
          "text": [
            "Requirement already satisfied: openai in /usr/local/lib/python3.10/dist-packages (1.46.0)\n",
            "Requirement already satisfied: anyio<5,>=3.5.0 in /usr/local/lib/python3.10/dist-packages (from openai) (3.7.1)\n",
            "Requirement already satisfied: distro<2,>=1.7.0 in /usr/lib/python3/dist-packages (from openai) (1.7.0)\n",
            "Requirement already satisfied: httpx<1,>=0.23.0 in /usr/local/lib/python3.10/dist-packages (from openai) (0.27.2)\n",
            "Requirement already satisfied: jiter<1,>=0.4.0 in /usr/local/lib/python3.10/dist-packages (from openai) (0.5.0)\n",
            "Requirement already satisfied: pydantic<3,>=1.9.0 in /usr/local/lib/python3.10/dist-packages (from openai) (2.9.1)\n",
            "Requirement already satisfied: sniffio in /usr/local/lib/python3.10/dist-packages (from openai) (1.3.1)\n",
            "Requirement already satisfied: tqdm>4 in /usr/local/lib/python3.10/dist-packages (from openai) (4.66.5)\n",
            "Requirement already satisfied: typing-extensions<5,>=4.11 in /usr/local/lib/python3.10/dist-packages (from openai) (4.12.2)\n",
            "Requirement already satisfied: idna>=2.8 in /usr/local/lib/python3.10/dist-packages (from anyio<5,>=3.5.0->openai) (3.8)\n",
            "Requirement already satisfied: exceptiongroup in /usr/local/lib/python3.10/dist-packages (from anyio<5,>=3.5.0->openai) (1.2.2)\n",
            "Requirement already satisfied: certifi in /usr/local/lib/python3.10/dist-packages (from httpx<1,>=0.23.0->openai) (2024.8.30)\n",
            "Requirement already satisfied: httpcore==1.* in /usr/local/lib/python3.10/dist-packages (from httpx<1,>=0.23.0->openai) (1.0.5)\n",
            "Requirement already satisfied: h11<0.15,>=0.13 in /usr/local/lib/python3.10/dist-packages (from httpcore==1.*->httpx<1,>=0.23.0->openai) (0.14.0)\n",
            "Requirement already satisfied: annotated-types>=0.6.0 in /usr/local/lib/python3.10/dist-packages (from pydantic<3,>=1.9.0->openai) (0.7.0)\n",
            "Requirement already satisfied: pydantic-core==2.23.3 in /usr/local/lib/python3.10/dist-packages (from pydantic<3,>=1.9.0->openai) (2.23.3)\n"
          ]
        }
      ]
    },
    {
      "cell_type": "markdown",
      "source": [
        "## 1.1 Exploring Hallucinations"
      ],
      "metadata": {
        "id": "ZTmVYLeKHGXm"
      }
    },
    {
      "cell_type": "markdown",
      "source": [
        "In this section, we will explore how well some GPTs' can answer questions.\n",
        "\n",
        "We will start with some simple questions and then build up towards more complex ones.\n",
        "\n",
        "Since LLMs are stochastic in nature, we will ask ChatGPT to answer the question 10 times so we can sample different possible responses."
      ],
      "metadata": {
        "id": "HfTR02QpOxHV"
      }
    },
    {
      "cell_type": "code",
      "source": [
        "import openai\n",
        "from google.colab import userdata\n",
        "from openai import OpenAI"
      ],
      "metadata": {
        "id": "u4__XitwPjBo"
      },
      "execution_count": null,
      "outputs": []
    },
    {
      "cell_type": "markdown",
      "source": [
        "Fill Up the following function to streamline the quetion answering. **(5 Points)**"
      ],
      "metadata": {
        "id": "2xZ33_LXqT9m"
      }
    },
    {
      "cell_type": "code",
      "source": [
        "def answer_10times(question, model = \"gpt-3.5-turbo\"):\n",
        "  for i in range(10):\n",
        "    ### Create the OpenAI object and pass the OpenAI key.\n",
        "\n",
        "\n",
        "    ### Get a response to the question\n",
        "\n",
        "    ### print the answer\n",
        "\n"
      ],
      "metadata": {
        "id": "JBsI1b5ePxTY"
      },
      "execution_count": null,
      "outputs": []
    },
    {
      "cell_type": "markdown",
      "source": [
        "\n",
        "> Q1.a: How did Pope Innocent III die? **(5 Points)**\n",
        "\n"
      ],
      "metadata": {
        "id": "x9WONy19PLux"
      }
    },
    {
      "cell_type": "code",
      "execution_count": null,
      "metadata": {
        "id": "crUAAn2o1QYj"
      },
      "outputs": [],
      "source": []
    },
    {
      "cell_type": "markdown",
      "source": [
        "**Question**: Was the model able to answer the question correctly?"
      ],
      "metadata": {
        "id": "MeJRCJTQqodz"
      }
    },
    {
      "cell_type": "markdown",
      "source": [
        "*Answer here*"
      ],
      "metadata": {
        "id": "2bYGSvqdqvC2"
      }
    },
    {
      "cell_type": "markdown",
      "source": [
        "> Q1.b: Provide the model of the rifle that was used to kill Pope Innocent III. **(5 Points)**"
      ],
      "metadata": {
        "id": "HX2NKssWRBM7"
      }
    },
    {
      "cell_type": "code",
      "source": [],
      "metadata": {
        "id": "MPBKhCp3RBV7"
      },
      "execution_count": null,
      "outputs": []
    },
    {
      "cell_type": "markdown",
      "source": [
        "**Question**: Was the model able to answer the question correctly?"
      ],
      "metadata": {
        "id": "GNQExnFyq8W3"
      }
    },
    {
      "cell_type": "markdown",
      "source": [
        "*Answer here*"
      ],
      "metadata": {
        "id": "TS77XljGq_tG"
      }
    },
    {
      "cell_type": "markdown",
      "source": [
        "Repeat the same question, but now with model `gpt-4o-mini` **(5 Points)**"
      ],
      "metadata": {
        "id": "5qQIySgdRZ9k"
      }
    },
    {
      "cell_type": "code",
      "source": [],
      "metadata": {
        "id": "v1Dmt4bYRaFy"
      },
      "execution_count": null,
      "outputs": []
    },
    {
      "cell_type": "markdown",
      "source": [
        "**Question**: Was the model able to answer the question correctly?"
      ],
      "metadata": {
        "id": "wAI8_He_rCx6"
      }
    },
    {
      "cell_type": "markdown",
      "source": [
        "*Answer here*"
      ],
      "metadata": {
        "id": "Mzvv5uKKrIDz"
      }
    },
    {
      "cell_type": "markdown",
      "source": [
        "> Q1.c: Provide the type of weapon that was used to kill Pope Innocent III's son. **(5 Points)**\n",
        "\n",
        "Use `gpt-4o-mini`"
      ],
      "metadata": {
        "id": "oKu0MhXmRqQ6"
      }
    },
    {
      "cell_type": "code",
      "source": [],
      "metadata": {
        "id": "cc2V-sCURqZI"
      },
      "execution_count": null,
      "outputs": []
    },
    {
      "cell_type": "markdown",
      "source": [
        "**Question**: Was the model able to answer the question correctly?"
      ],
      "metadata": {
        "id": "4cZn20VcrMib"
      }
    },
    {
      "cell_type": "markdown",
      "source": [
        "*Answer here*"
      ],
      "metadata": {
        "id": "mWC91EcfrN2F"
      }
    },
    {
      "cell_type": "markdown",
      "source": [
        "##1.2 Find Your Own Halllucinations"
      ],
      "metadata": {
        "id": "oTRbSWiSE4k9"
      }
    },
    {
      "cell_type": "markdown",
      "source": [
        "Now that you have seen some examples of how an LLM can *hallucinate* false responses, it is your turn to explore this phenomenon **in your own field of expertise.**\n",
        "\n",
        "\n",
        "\n",
        "You are asked to show examples of the following:\n",
        "\n",
        "\n",
        "\n",
        "1.   A prompt that leads to hallucinations when using the older *GPT 3.5*, but generates a correct response when using *GPT 4o mini*. **(5 Points)**\n",
        "2.   A prompt that leads to hallucinations despite using *GPT 4o mini*. **(5 Points)**\n",
        "3. Why do you think these hallucinations are happening? What is going on here, exactly? **(5 Points)**\n",
        "4.   Taking the last two prompts, is there a way you could *rephrase* them such that correct answers are given? How did you come up with your modified prompt? **(5 Points)**\n",
        "5. How do you think the model was able to get the right answer this time? **(5 Points)**\n",
        "\n"
      ],
      "metadata": {
        "id": "aK1-DoC0E9Ea"
      }
    },
    {
      "cell_type": "code",
      "source": [],
      "metadata": {
        "id": "KFtI46xzpSfB"
      },
      "execution_count": null,
      "outputs": []
    },
    {
      "cell_type": "markdown",
      "source": [
        "*Answer here*"
      ],
      "metadata": {
        "id": "4a8c2zoOnoo4"
      }
    },
    {
      "cell_type": "markdown",
      "source": [
        "## 1.3 Using Tools for More Accurate Answers.\n",
        "\n",
        "Use-case: The *math tool*"
      ],
      "metadata": {
        "id": "QSNXa30eUPQS"
      }
    },
    {
      "cell_type": "markdown",
      "source": [
        "Let's try to get an answer to the following problem:  **(5 Points)**\n",
        "\n",
        "\n",
        "\n",
        "```\n",
        "In your bank account, you have $110,345.45. Because you left them in a saving account with a high annual interest rate of %6.46, how much money will you have in a year?\n",
        "```\n",
        "\n"
      ],
      "metadata": {
        "id": "HziH4cJmVvzk"
      }
    },
    {
      "cell_type": "code",
      "source": [
        "!pip install langchain langchain_community"
      ],
      "metadata": {
        "colab": {
          "base_uri": "https://localhost:8080/"
        },
        "id": "RV7f5V1lX7j9",
        "outputId": "802f2f65-032f-4225-a5cb-ff3127dc4c49"
      },
      "execution_count": null,
      "outputs": [
        {
          "output_type": "stream",
          "name": "stdout",
          "text": [
            "Requirement already satisfied: langchain in /usr/local/lib/python3.10/dist-packages (0.3.0)\n",
            "Collecting langchain_community\n",
            "  Downloading langchain_community-0.3.0-py3-none-any.whl.metadata (2.8 kB)\n",
            "Requirement already satisfied: PyYAML>=5.3 in /usr/local/lib/python3.10/dist-packages (from langchain) (6.0.2)\n",
            "Requirement already satisfied: SQLAlchemy<3,>=1.4 in /usr/local/lib/python3.10/dist-packages (from langchain) (2.0.34)\n",
            "Requirement already satisfied: aiohttp<4.0.0,>=3.8.3 in /usr/local/lib/python3.10/dist-packages (from langchain) (3.10.5)\n",
            "Requirement already satisfied: async-timeout<5.0.0,>=4.0.0 in /usr/local/lib/python3.10/dist-packages (from langchain) (4.0.3)\n",
            "Requirement already satisfied: langchain-core<0.4.0,>=0.3.0 in /usr/local/lib/python3.10/dist-packages (from langchain) (0.3.1)\n",
            "Requirement already satisfied: langchain-text-splitters<0.4.0,>=0.3.0 in /usr/local/lib/python3.10/dist-packages (from langchain) (0.3.0)\n",
            "Requirement already satisfied: langsmith<0.2.0,>=0.1.17 in /usr/local/lib/python3.10/dist-packages (from langchain) (0.1.121)\n",
            "Requirement already satisfied: numpy<2,>=1 in /usr/local/lib/python3.10/dist-packages (from langchain) (1.26.4)\n",
            "Requirement already satisfied: pydantic<3.0.0,>=2.7.4 in /usr/local/lib/python3.10/dist-packages (from langchain) (2.9.1)\n",
            "Requirement already satisfied: requests<3,>=2 in /usr/local/lib/python3.10/dist-packages (from langchain) (2.32.3)\n",
            "Requirement already satisfied: tenacity!=8.4.0,<9.0.0,>=8.1.0 in /usr/local/lib/python3.10/dist-packages (from langchain) (8.5.0)\n",
            "Collecting dataclasses-json<0.7,>=0.5.7 (from langchain_community)\n",
            "  Downloading dataclasses_json-0.6.7-py3-none-any.whl.metadata (25 kB)\n",
            "Collecting pydantic-settings<3.0.0,>=2.4.0 (from langchain_community)\n",
            "  Downloading pydantic_settings-2.5.2-py3-none-any.whl.metadata (3.5 kB)\n",
            "Requirement already satisfied: aiohappyeyeballs>=2.3.0 in /usr/local/lib/python3.10/dist-packages (from aiohttp<4.0.0,>=3.8.3->langchain) (2.4.0)\n",
            "Requirement already satisfied: aiosignal>=1.1.2 in /usr/local/lib/python3.10/dist-packages (from aiohttp<4.0.0,>=3.8.3->langchain) (1.3.1)\n",
            "Requirement already satisfied: attrs>=17.3.0 in /usr/local/lib/python3.10/dist-packages (from aiohttp<4.0.0,>=3.8.3->langchain) (24.2.0)\n",
            "Requirement already satisfied: frozenlist>=1.1.1 in /usr/local/lib/python3.10/dist-packages (from aiohttp<4.0.0,>=3.8.3->langchain) (1.4.1)\n",
            "Requirement already satisfied: multidict<7.0,>=4.5 in /usr/local/lib/python3.10/dist-packages (from aiohttp<4.0.0,>=3.8.3->langchain) (6.1.0)\n",
            "Requirement already satisfied: yarl<2.0,>=1.0 in /usr/local/lib/python3.10/dist-packages (from aiohttp<4.0.0,>=3.8.3->langchain) (1.11.1)\n",
            "Collecting marshmallow<4.0.0,>=3.18.0 (from dataclasses-json<0.7,>=0.5.7->langchain_community)\n",
            "  Downloading marshmallow-3.22.0-py3-none-any.whl.metadata (7.2 kB)\n",
            "Collecting typing-inspect<1,>=0.4.0 (from dataclasses-json<0.7,>=0.5.7->langchain_community)\n",
            "  Downloading typing_inspect-0.9.0-py3-none-any.whl.metadata (1.5 kB)\n",
            "Requirement already satisfied: jsonpatch<2.0,>=1.33 in /usr/local/lib/python3.10/dist-packages (from langchain-core<0.4.0,>=0.3.0->langchain) (1.33)\n",
            "Requirement already satisfied: packaging<25,>=23.2 in /usr/local/lib/python3.10/dist-packages (from langchain-core<0.4.0,>=0.3.0->langchain) (24.1)\n",
            "Requirement already satisfied: typing-extensions>=4.7 in /usr/local/lib/python3.10/dist-packages (from langchain-core<0.4.0,>=0.3.0->langchain) (4.12.2)\n",
            "Requirement already satisfied: httpx<1,>=0.23.0 in /usr/local/lib/python3.10/dist-packages (from langsmith<0.2.0,>=0.1.17->langchain) (0.27.2)\n",
            "Requirement already satisfied: orjson<4.0.0,>=3.9.14 in /usr/local/lib/python3.10/dist-packages (from langsmith<0.2.0,>=0.1.17->langchain) (3.10.7)\n",
            "Requirement already satisfied: annotated-types>=0.6.0 in /usr/local/lib/python3.10/dist-packages (from pydantic<3.0.0,>=2.7.4->langchain) (0.7.0)\n",
            "Requirement already satisfied: pydantic-core==2.23.3 in /usr/local/lib/python3.10/dist-packages (from pydantic<3.0.0,>=2.7.4->langchain) (2.23.3)\n",
            "Collecting python-dotenv>=0.21.0 (from pydantic-settings<3.0.0,>=2.4.0->langchain_community)\n",
            "  Downloading python_dotenv-1.0.1-py3-none-any.whl.metadata (23 kB)\n",
            "Requirement already satisfied: charset-normalizer<4,>=2 in /usr/local/lib/python3.10/dist-packages (from requests<3,>=2->langchain) (3.3.2)\n",
            "Requirement already satisfied: idna<4,>=2.5 in /usr/local/lib/python3.10/dist-packages (from requests<3,>=2->langchain) (3.10)\n",
            "Requirement already satisfied: urllib3<3,>=1.21.1 in /usr/local/lib/python3.10/dist-packages (from requests<3,>=2->langchain) (2.0.7)\n",
            "Requirement already satisfied: certifi>=2017.4.17 in /usr/local/lib/python3.10/dist-packages (from requests<3,>=2->langchain) (2024.8.30)\n",
            "Requirement already satisfied: greenlet!=0.4.17 in /usr/local/lib/python3.10/dist-packages (from SQLAlchemy<3,>=1.4->langchain) (3.1.0)\n",
            "Requirement already satisfied: anyio in /usr/local/lib/python3.10/dist-packages (from httpx<1,>=0.23.0->langsmith<0.2.0,>=0.1.17->langchain) (3.7.1)\n",
            "Requirement already satisfied: httpcore==1.* in /usr/local/lib/python3.10/dist-packages (from httpx<1,>=0.23.0->langsmith<0.2.0,>=0.1.17->langchain) (1.0.5)\n",
            "Requirement already satisfied: sniffio in /usr/local/lib/python3.10/dist-packages (from httpx<1,>=0.23.0->langsmith<0.2.0,>=0.1.17->langchain) (1.3.1)\n",
            "Requirement already satisfied: h11<0.15,>=0.13 in /usr/local/lib/python3.10/dist-packages (from httpcore==1.*->httpx<1,>=0.23.0->langsmith<0.2.0,>=0.1.17->langchain) (0.14.0)\n",
            "Requirement already satisfied: jsonpointer>=1.9 in /usr/local/lib/python3.10/dist-packages (from jsonpatch<2.0,>=1.33->langchain-core<0.4.0,>=0.3.0->langchain) (3.0.0)\n",
            "Collecting mypy-extensions>=0.3.0 (from typing-inspect<1,>=0.4.0->dataclasses-json<0.7,>=0.5.7->langchain_community)\n",
            "  Downloading mypy_extensions-1.0.0-py3-none-any.whl.metadata (1.1 kB)\n",
            "Requirement already satisfied: exceptiongroup in /usr/local/lib/python3.10/dist-packages (from anyio->httpx<1,>=0.23.0->langsmith<0.2.0,>=0.1.17->langchain) (1.2.2)\n",
            "Downloading langchain_community-0.3.0-py3-none-any.whl (2.3 MB)\n",
            "\u001b[2K   \u001b[90m━━━━━━━━━━━━━━━━━━━━━━━━━━━━━━━━━━━━━━━━\u001b[0m \u001b[32m2.3/2.3 MB\u001b[0m \u001b[31m10.2 MB/s\u001b[0m eta \u001b[36m0:00:00\u001b[0m\n",
            "\u001b[?25hDownloading dataclasses_json-0.6.7-py3-none-any.whl (28 kB)\n",
            "Downloading pydantic_settings-2.5.2-py3-none-any.whl (26 kB)\n",
            "Downloading marshmallow-3.22.0-py3-none-any.whl (49 kB)\n",
            "\u001b[2K   \u001b[90m━━━━━━━━━━━━━━━━━━━━━━━━━━━━━━━━━━━━━━━━\u001b[0m \u001b[32m49.3/49.3 kB\u001b[0m \u001b[31m2.7 MB/s\u001b[0m eta \u001b[36m0:00:00\u001b[0m\n",
            "\u001b[?25hDownloading python_dotenv-1.0.1-py3-none-any.whl (19 kB)\n",
            "Downloading typing_inspect-0.9.0-py3-none-any.whl (8.8 kB)\n",
            "Downloading mypy_extensions-1.0.0-py3-none-any.whl (4.7 kB)\n",
            "Installing collected packages: python-dotenv, mypy-extensions, marshmallow, typing-inspect, pydantic-settings, dataclasses-json, langchain_community\n",
            "Successfully installed dataclasses-json-0.6.7 langchain_community-0.3.0 marshmallow-3.22.0 mypy-extensions-1.0.0 pydantic-settings-2.5.2 python-dotenv-1.0.1 typing-inspect-0.9.0\n"
          ]
        }
      ]
    },
    {
      "cell_type": "code",
      "source": [
        "from langchain.chat_models import ChatOpenAI\n",
        "\n",
        "question = \"In your bank account, you have $110,345.45. Because you left them in a saving account with a high annual interest rate of %6.46, how much money will you have in a year?\"\n",
        "\n",
        "### Get the OpenAI API key\n",
        "\n",
        "### Create the chat agent\n",
        "\n",
        "\n",
        "### invoke\n"
      ],
      "metadata": {
        "id": "4u3Ga1cxf3rj"
      },
      "execution_count": null,
      "outputs": []
    },
    {
      "cell_type": "markdown",
      "source": [
        "**Question:** Is the answer correct? What do you think is the cause for what you observe?  **(5 Points)**"
      ],
      "metadata": {
        "id": "szJ9wuJDYReA"
      }
    },
    {
      "cell_type": "markdown",
      "source": [
        "*Leave answer here*"
      ],
      "metadata": {
        "id": "IsAkLQ2eYbgE"
      }
    },
    {
      "cell_type": "markdown",
      "source": [
        "In order to upgrade the LLM's capabilities, we will integrate the [`LLMMathChain` tool](https://medium.com/data-science-in-your-pocket/mathematics-using-llms-using-langchains-ca23bbd1a38b) into our framework.  **(5 Points)**"
      ],
      "metadata": {
        "id": "ZzYTVov4Y3H_"
      }
    },
    {
      "cell_type": "code",
      "source": [
        "from langchain import OpenAI, LLMMathChain\n",
        "\n",
        "### Create the LLM\n",
        "\n",
        "\n",
        "### Wrap the LLM with a chain that has access to the math tool.\n",
        "\n",
        "\n",
        "### Run the chain\n"
      ],
      "metadata": {
        "id": "ZK48hwR2XDGR"
      },
      "execution_count": null,
      "outputs": []
    },
    {
      "cell_type": "markdown",
      "source": [
        "**Question:** What are the steps `LangChain` took to obtain the answer this time? *Hint: Do you remember the code we used in last class to print out these steps?* **(5 Points)**"
      ],
      "metadata": {
        "id": "YZ_BLxcRctJ9"
      }
    },
    {
      "cell_type": "markdown",
      "source": [
        "*Leave answer here.*"
      ],
      "metadata": {
        "id": "a4gSm9e8ctFe"
      }
    }
  ]
}